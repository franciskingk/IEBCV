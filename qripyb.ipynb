{
 "cells": [
  {
   "cell_type": "code",
   "execution_count": 5,
   "metadata": {},
   "outputs": [
    {
     "name": "stdout",
     "output_type": "stream",
     "text": [
      "Defaulting to user installation because normal site-packages is not writeable\n",
      "Collecting pyzbar\n",
      "  Downloading pyzbar-0.1.8-py2.py3-none-any.whl (28 kB)\n",
      "Installing collected packages: pyzbar\n",
      "Successfully installed pyzbar-0.1.8\n"
     ]
    }
   ],
   "source": [
    "# installing pyzbar\n",
    "!pip install pyzbar"
   ]
  },
  {
   "cell_type": "code",
   "execution_count": 1,
   "metadata": {},
   "outputs": [],
   "source": [
    "# importing libraries\n",
    "import cv2\n",
    "import numpy as np\n",
    "from pyzbar.pyzbar import decode"
   ]
  },
  {
   "cell_type": "code",
   "execution_count": null,
   "metadata": {},
   "outputs": [],
   "source": [
    "#img = cv2.imread('/home/francis/Downloads/Compressed/ballot/QRcode_location/Mombasa-chang1.png')\n",
    "cap = cv2.VideoCapture(0)\n",
    "cap.set(3,640)\n",
    "cap.set(4,480)\n",
    "\n",
    "while True:\n",
    "\n",
    "    success, img=cap.read()\n",
    "    for barcode in decode(img):\n",
    "            print(barcode.data)\n",
    "            mydata=barcode.data.decode('utf-8')\n",
    "            print(mydata)\n",
    "            pts = np.array([barcode.polygon],np.int32)\n",
    "            pts = pts.reshape((-1,1,2))\n",
    "            cv2.polylines(img,[pts],True,(255,0,255),5)\n",
    "            pts2 = barcode.rect\n",
    "            cv2.putText(img,mydata,(pts2[0],pts2[1]),cv2.FONT_HERSHEY_SIMPLEX,0.9,(255,0,255),2)\n",
    "            \n",
    "\n",
    "    cv2.imshow('Result',img)\n",
    "    cv2.waitKey(1)\n"
   ]
  },
  {
   "cell_type": "code",
   "execution_count": null,
   "metadata": {},
   "outputs": [],
   "source": [
    "# check wheather they are verified\n"
   ]
  }
 ],
 "metadata": {
  "interpreter": {
   "hash": "033fd2476c2985c78cbe749ad3aa14bc40cbed5801708710e7199d7831a00d0e"
  },
  "kernelspec": {
   "display_name": "Python 3.8.11 64-bit ('rasa-app': conda)",
   "name": "python3"
  },
  "language_info": {
   "codemirror_mode": {
    "name": "ipython",
    "version": 3
   },
   "file_extension": ".py",
   "mimetype": "text/x-python",
   "name": "python",
   "nbconvert_exporter": "python",
   "pygments_lexer": "ipython3",
   "version": "3.8.11"
  },
  "orig_nbformat": 4
 },
 "nbformat": 4,
 "nbformat_minor": 2
}
